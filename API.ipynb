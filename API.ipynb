{
 "cells": [
  {
   "cell_type": "code",
   "execution_count": null,
   "metadata": {},
   "outputs": [],
   "source": [
    "import kagglehub\n",
    "import pandas as pd\n",
    "path = kagglehub.dataset_download(\"fedesoriano/company-bankruptcy-prediction\")\n",
    "data = pd.read_csv(path+\"/data.csv\")"
   ]
  },
  {
   "cell_type": "code",
   "execution_count": null,
   "metadata": {},
   "outputs": [],
   "source": [
    "import json\n",
    "\n",
    "#Formateado para la API:\n",
    "data_json = json.dumps({\"data\": [data_dict]})\n",
    "\n",
    "suri = open(\"uri.json\", \"r\")\n",
    "scoring_uri = json.load(suri)[\"URI\"][0]\n",
    "suri.close()"
   ]
  },
  {
   "cell_type": "code",
   "execution_count": null,
   "metadata": {},
   "outputs": [],
   "source": [
    "## La API per-sé:\n",
    "\n",
    "headers = {\"Content-Type\": \"application/json\"}\n",
    "import requests\n",
    "response = requests.post(scoring_uri, data=data_json, headers=headers)\n",
    "\n",
    "if response.status_code == 200:\n",
    "  result = json.loads(response.json())\n",
    "  print(result)\n",
    "  data[\"Exited\"] = result\n",
    "  display(data)\n",
    "else:\n",
    "  print(f\"Error: {response.text}\")"
   ]
  }
 ],
 "metadata": {
  "kernelspec": {
   "display_name": "Python 3",
   "language": "python",
   "name": "python3"
  },
  "language_info": {
   "name": "python",
   "version": "3.13.1"
  }
 },
 "nbformat": 4,
 "nbformat_minor": 2
}
