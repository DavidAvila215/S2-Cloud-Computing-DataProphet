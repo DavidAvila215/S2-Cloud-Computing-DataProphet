{
 "cells": [
  {
   "cell_type": "code",
   "execution_count": 1,
   "id": "616a4be3",
   "metadata": {},
   "outputs": [
    {
     "name": "stderr",
     "output_type": "stream",
     "text": [
      "c:\\Users\\david\\anaconda3\\envs\\azureml-env\\lib\\site-packages\\tqdm\\auto.py:21: TqdmWarning: IProgress not found. Please update jupyter and ipywidgets. See https://ipywidgets.readthedocs.io/en/stable/user_install.html\n",
      "  from .autonotebook import tqdm as notebook_tqdm\n"
     ]
    },
    {
     "name": "stdout",
     "output_type": "stream",
     "text": [
      "Warning: Looks like you're using an outdated `kagglehub` version, please consider updating (latest version: 0.3.12)\n",
      "✅ prueba_1.csv guardado.\n"
     ]
    }
   ],
   "source": [
    "import kagglehub\n",
    "import pandas as pd\n",
    "\n",
    "# Download and load the dataset\n",
    "path = kagglehub.dataset_download(\"fedesoriano/company-bankruptcy-prediction\")\n",
    "data = pd.read_csv(path + \"/data.csv\")\n",
    "\n",
    "# Drop the target column\n",
    "data_input = data.drop(columns=[\"Bankrupt?\"])\n",
    "\n",
    "# Clean column names (same as in training and score.py)\n",
    "data_input.columns = (\n",
    "    data_input.columns\n",
    "    .str.strip()\n",
    "    .str.replace(' ', '_')\n",
    "    .str.replace('%', 'pct')\n",
    "    .str.replace('?', '')\n",
    "    .str.replace('(', '')\n",
    "    .str.replace(')', '')\n",
    ")\n",
    "\n",
    "# Save first row as test input\n",
    "data_input.iloc[[0]].to_csv(\"prueba_1.csv\", index=False)\n",
    "print(\"✅ prueba_1.csv guardado.\")\n"
   ]
  },
  {
   "cell_type": "code",
   "execution_count": 2,
   "id": "152d169e",
   "metadata": {},
   "outputs": [
    {
     "name": "stdout",
     "output_type": "stream",
     "text": [
      "✅ Local prediction: [1]\n"
     ]
    }
   ],
   "source": [
    "import joblib\n",
    "import pandas as pd\n",
    "\n",
    "# Load the model you saved\n",
    "model = joblib.load(\"model.pkl\")\n",
    "\n",
    "# Load a test row (same format as used in training)\n",
    "df = pd.read_csv(\"prueba_1.csv\")  # or manually use Kaggle data if you prefer\n",
    "\n",
    "# Make prediction\n",
    "prediction = model.predict(df)\n",
    "print(\"✅ Local prediction:\", prediction)\n"
   ]
  }
 ],
 "metadata": {
  "kernelspec": {
   "display_name": "azureml-env",
   "language": "python",
   "name": "python3"
  },
  "language_info": {
   "codemirror_mode": {
    "name": "ipython",
    "version": 3
   },
   "file_extension": ".py",
   "mimetype": "text/x-python",
   "name": "python",
   "nbconvert_exporter": "python",
   "pygments_lexer": "ipython3",
   "version": "3.8.20"
  }
 },
 "nbformat": 4,
 "nbformat_minor": 5
}
